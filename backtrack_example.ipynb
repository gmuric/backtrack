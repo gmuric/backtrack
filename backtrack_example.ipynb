{
 "cells": [
  {
   "cell_type": "markdown",
   "metadata": {},
   "source": [
    "# Back-track people with symptoms using geo-location data to identify exposed population"
   ]
  },
  {
   "cell_type": "markdown",
   "metadata": {},
   "source": [
    "* The code gets the **location data** of a population as an input\n",
    "* It returns: **risky population**, together with a **SCORE** - The score is calculated based on: **number of encounters with infected**, **distance from infected**, **time spent with infected**"
   ]
  },
  {
   "cell_type": "code",
   "execution_count": 1,
   "metadata": {},
   "outputs": [],
   "source": [
    "# First load some necessary packages\n",
    "import pandas as pd\n",
    "import datetime\n",
    "import numpy as np\n",
    "import math\n",
    "\n",
    "# Load backtrack\n",
    "import backtrack"
   ]
  },
  {
   "cell_type": "code",
   "execution_count": 2,
   "metadata": {},
   "outputs": [
    {
     "data": {
      "text/html": [
       "<div>\n",
       "<style scoped>\n",
       "    .dataframe tbody tr th:only-of-type {\n",
       "        vertical-align: middle;\n",
       "    }\n",
       "\n",
       "    .dataframe tbody tr th {\n",
       "        vertical-align: top;\n",
       "    }\n",
       "\n",
       "    .dataframe thead th {\n",
       "        text-align: right;\n",
       "    }\n",
       "</style>\n",
       "<table border=\"1\" class=\"dataframe\">\n",
       "  <thead>\n",
       "    <tr style=\"text-align: right;\">\n",
       "      <th></th>\n",
       "      <th>lat</th>\n",
       "      <th>lng</th>\n",
       "      <th>time</th>\n",
       "      <th>id</th>\n",
       "    </tr>\n",
       "  </thead>\n",
       "  <tbody>\n",
       "    <tr>\n",
       "      <th>242288</th>\n",
       "      <td>-20.596386</td>\n",
       "      <td>-47.647472</td>\n",
       "      <td>2018-04-19 09:16:48</td>\n",
       "      <td>9817</td>\n",
       "    </tr>\n",
       "    <tr>\n",
       "      <th>94399</th>\n",
       "      <td>-18.925207</td>\n",
       "      <td>-48.279933</td>\n",
       "      <td>2018-04-03 20:07:53</td>\n",
       "      <td>8207</td>\n",
       "    </tr>\n",
       "    <tr>\n",
       "      <th>423741</th>\n",
       "      <td>-18.919943</td>\n",
       "      <td>-48.330219</td>\n",
       "      <td>2018-05-26 04:06:06</td>\n",
       "      <td>9752</td>\n",
       "    </tr>\n",
       "    <tr>\n",
       "      <th>380005</th>\n",
       "      <td>-19.870217</td>\n",
       "      <td>-44.606790</td>\n",
       "      <td>2018-05-17 05:38:56</td>\n",
       "      <td>10017</td>\n",
       "    </tr>\n",
       "    <tr>\n",
       "      <th>326131</th>\n",
       "      <td>-18.912178</td>\n",
       "      <td>-48.285765</td>\n",
       "      <td>2018-05-06 22:48:38</td>\n",
       "      <td>10624</td>\n",
       "    </tr>\n",
       "  </tbody>\n",
       "</table>\n",
       "</div>"
      ],
      "text/plain": [
       "              lat        lng                time     id\n",
       "242288 -20.596386 -47.647472 2018-04-19 09:16:48   9817\n",
       "94399  -18.925207 -48.279933 2018-04-03 20:07:53   8207\n",
       "423741 -18.919943 -48.330219 2018-05-26 04:06:06   9752\n",
       "380005 -19.870217 -44.606790 2018-05-17 05:38:56  10017\n",
       "326131 -18.912178 -48.285765 2018-05-06 22:48:38  10624"
      ]
     },
     "execution_count": 2,
     "metadata": {},
     "output_type": "execute_result"
    }
   ],
   "source": [
    "# load a sample geo-location data\n",
    "# the data has to contain 4 columns: latitude, longitude, time and user_id\n",
    "\n",
    "data = pd.read_csv('data\\\\locations_sample.csv', header=None).rename(columns={1:'lat',2:'lng',3:'time',4:'id'}).drop(columns=[0])\n",
    "data['time'] = pd.to_datetime(data['time'])\n",
    "data = data.drop_duplicates()\n",
    "data.sample(5)"
   ]
  },
  {
   "cell_type": "code",
   "execution_count": 3,
   "metadata": {},
   "outputs": [],
   "source": [
    "# We provide following parameters\n",
    "target_id = 3706 # This is the ID of the infected user\n",
    "max_radius = 70 # In meters. This will eliminate all the encounters with more than max_radius meters distance\n",
    "time_window = 20 # In minutes. Time window when two persons appear in the similar location. Depending on the time granularity of the data we can decide what is the minimum time step."
   ]
  },
  {
   "cell_type": "code",
   "execution_count": 6,
   "metadata": {},
   "outputs": [
    {
     "data": {
      "text/html": [
       "<div>\n",
       "<style scoped>\n",
       "    .dataframe tbody tr th:only-of-type {\n",
       "        vertical-align: middle;\n",
       "    }\n",
       "\n",
       "    .dataframe tbody tr th {\n",
       "        vertical-align: top;\n",
       "    }\n",
       "\n",
       "    .dataframe thead th {\n",
       "        text-align: right;\n",
       "    }\n",
       "</style>\n",
       "<table border=\"1\" class=\"dataframe\">\n",
       "  <thead>\n",
       "    <tr style=\"text-align: right;\">\n",
       "      <th></th>\n",
       "      <th>id</th>\n",
       "      <th>duration</th>\n",
       "      <th>lat_point</th>\n",
       "      <th>lng_point</th>\n",
       "      <th>min_dist</th>\n",
       "      <th>num_encounters</th>\n",
       "      <th>min_dist_inverse</th>\n",
       "      <th>score</th>\n",
       "    </tr>\n",
       "  </thead>\n",
       "  <tbody>\n",
       "    <tr>\n",
       "      <th>0</th>\n",
       "      <td>4526</td>\n",
       "      <td>45000.0</td>\n",
       "      <td>-19.747628</td>\n",
       "      <td>-47.934110</td>\n",
       "      <td>17.624308</td>\n",
       "      <td>26.0</td>\n",
       "      <td>0.056740</td>\n",
       "      <td>26.000000</td>\n",
       "    </tr>\n",
       "    <tr>\n",
       "      <th>1</th>\n",
       "      <td>2102</td>\n",
       "      <td>16200.0</td>\n",
       "      <td>-19.747667</td>\n",
       "      <td>-47.934342</td>\n",
       "      <td>21.266039</td>\n",
       "      <td>9.0</td>\n",
       "      <td>0.047023</td>\n",
       "      <td>2.685162</td>\n",
       "    </tr>\n",
       "  </tbody>\n",
       "</table>\n",
       "</div>"
      ],
      "text/plain": [
       "     id  duration  lat_point  lng_point   min_dist  num_encounters  \\\n",
       "0  4526   45000.0 -19.747628 -47.934110  17.624308            26.0   \n",
       "1  2102   16200.0 -19.747667 -47.934342  21.266039             9.0   \n",
       "\n",
       "   min_dist_inverse      score  \n",
       "0          0.056740  26.000000  \n",
       "1          0.047023   2.685162  "
      ]
     },
     "execution_count": 6,
     "metadata": {},
     "output_type": "execute_result"
    }
   ],
   "source": [
    "# we run the code\n",
    "backtrack.get_risky(data, target_id, max_radius, time_window)"
   ]
  }
 ],
 "metadata": {
  "kernelspec": {
   "display_name": "Python 3",
   "language": "python",
   "name": "python3"
  },
  "language_info": {
   "codemirror_mode": {
    "name": "ipython",
    "version": 3
   },
   "file_extension": ".py",
   "mimetype": "text/x-python",
   "name": "python",
   "nbconvert_exporter": "python",
   "pygments_lexer": "ipython3",
   "version": "3.7.3"
  }
 },
 "nbformat": 4,
 "nbformat_minor": 2
}
