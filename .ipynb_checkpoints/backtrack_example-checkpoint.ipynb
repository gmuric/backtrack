{
 "cells": [
  {
   "cell_type": "markdown",
   "metadata": {},
   "source": [
    "# Back-track people with symptoms using geo-location data to identify exposed population"
   ]
  },
  {
   "cell_type": "markdown",
   "metadata": {},
   "source": [
    "### The code takes inputs:\n",
    "- **location data** of a population\n",
    "- **optional parameters** - *max_radius*, *time_window*"
   ]
  },
  {
   "cell_type": "markdown",
   "metadata": {},
   "source": [
    "### The code returns:\n",
    "- **id** - IDs of risky people\n",
    "- **duration** - Time they spent with the infected in the same radius in minutes\n",
    "- **lat_point** and **lng_point** - Coordinates of a their location closest to the infected\n",
    "- **min_dist** - Minimal distance between the infected and risky\n",
    "- **num_encounters** - Number of encounters with the infected\n",
    "- **score** - Risk score calculated as *duration(normalized)* X *num_encounters(normalized)* X *min_dist_inverse*"
   ]
  },
  {
   "cell_type": "code",
   "execution_count": 1,
   "metadata": {},
   "outputs": [],
   "source": [
    "# First load some necessary packages\n",
    "import pandas as pd\n",
    "import datetime\n",
    "import numpy as np\n",
    "import math\n",
    "\n",
    "# Load backtrack\n",
    "import backtrack"
   ]
  },
  {
   "cell_type": "code",
   "execution_count": 2,
   "metadata": {},
   "outputs": [
    {
     "data": {
      "text/html": [
       "<div>\n",
       "<style scoped>\n",
       "    .dataframe tbody tr th:only-of-type {\n",
       "        vertical-align: middle;\n",
       "    }\n",
       "\n",
       "    .dataframe tbody tr th {\n",
       "        vertical-align: top;\n",
       "    }\n",
       "\n",
       "    .dataframe thead th {\n",
       "        text-align: right;\n",
       "    }\n",
       "</style>\n",
       "<table border=\"1\" class=\"dataframe\">\n",
       "  <thead>\n",
       "    <tr style=\"text-align: right;\">\n",
       "      <th></th>\n",
       "      <th>lat</th>\n",
       "      <th>lng</th>\n",
       "      <th>time</th>\n",
       "      <th>id</th>\n",
       "    </tr>\n",
       "  </thead>\n",
       "  <tbody>\n",
       "    <tr>\n",
       "      <th>287967</th>\n",
       "      <td>-18.889738</td>\n",
       "      <td>-48.300511</td>\n",
       "      <td>2018-04-29 00:59:31</td>\n",
       "      <td>4407</td>\n",
       "    </tr>\n",
       "    <tr>\n",
       "      <th>76419</th>\n",
       "      <td>-18.907586</td>\n",
       "      <td>-48.329319</td>\n",
       "      <td>2018-04-01 08:06:02</td>\n",
       "      <td>6766</td>\n",
       "    </tr>\n",
       "    <tr>\n",
       "      <th>257171</th>\n",
       "      <td>-21.169048</td>\n",
       "      <td>-47.827628</td>\n",
       "      <td>2018-04-23 06:05:10</td>\n",
       "      <td>9988</td>\n",
       "    </tr>\n",
       "    <tr>\n",
       "      <th>256467</th>\n",
       "      <td>-18.915650</td>\n",
       "      <td>-48.281382</td>\n",
       "      <td>2018-04-23 07:49:54</td>\n",
       "      <td>5673</td>\n",
       "    </tr>\n",
       "    <tr>\n",
       "      <th>19606</th>\n",
       "      <td>-18.861924</td>\n",
       "      <td>-48.868697</td>\n",
       "      <td>2018-03-04 10:20:49</td>\n",
       "      <td>7682</td>\n",
       "    </tr>\n",
       "  </tbody>\n",
       "</table>\n",
       "</div>"
      ],
      "text/plain": [
       "              lat        lng                time    id\n",
       "287967 -18.889738 -48.300511 2018-04-29 00:59:31  4407\n",
       "76419  -18.907586 -48.329319 2018-04-01 08:06:02  6766\n",
       "257171 -21.169048 -47.827628 2018-04-23 06:05:10  9988\n",
       "256467 -18.915650 -48.281382 2018-04-23 07:49:54  5673\n",
       "19606  -18.861924 -48.868697 2018-03-04 10:20:49  7682"
      ]
     },
     "execution_count": 2,
     "metadata": {},
     "output_type": "execute_result"
    }
   ],
   "source": [
    "# load a sample geo-location data\n",
    "# the data has to contain 4 columns: latitude, longitude, time and user_id\n",
    "\n",
    "data = pd.read_csv('data\\\\locations_sample.csv', header=None).rename(columns={1:'lat',2:'lng',3:'time',4:'id'}).drop(columns=[0])\n",
    "data['time'] = pd.to_datetime(data['time'])\n",
    "data = data.drop_duplicates()\n",
    "data.sample(5)"
   ]
  },
  {
   "cell_type": "code",
   "execution_count": 3,
   "metadata": {},
   "outputs": [],
   "source": [
    "# We provide following parameters\n",
    "target_id = 3706 # This is the ID of the infected user\n",
    "max_radius = 70 # In meters. This will eliminate all the encounters with more than max_radius meters distance\n",
    "time_window = 20 # In minutes. Time window when two persons appear in the similar location. Depending on the time granularity of the data we can decide what is the minimum time step."
   ]
  },
  {
   "cell_type": "code",
   "execution_count": 4,
   "metadata": {},
   "outputs": [
    {
     "data": {
      "text/plain": [
       "[{'id': 4526,\n",
       "  'duration': 45000.0,\n",
       "  'lat_point': -19.747628,\n",
       "  'lng_point': -47.9341096,\n",
       "  'min_dist': 17.62430757596907,\n",
       "  'num_encounters': 26.0,\n",
       "  'score': 0.05673981775962141},\n",
       " {'id': 2102,\n",
       "  'duration': 16200.0,\n",
       "  'lat_point': -19.7476675,\n",
       "  'lng_point': -47.9343416,\n",
       "  'min_dist': 21.266039243729303,\n",
       "  'num_encounters': 9.0,\n",
       "  'score': 0.005859830464299074}]"
      ]
     },
     "execution_count": 4,
     "metadata": {},
     "output_type": "execute_result"
    }
   ],
   "source": [
    "# we run the code\n",
    "backtrack.get_risky(data, target_id, max_radius, time_window)"
   ]
  },
  {
   "cell_type": "markdown",
   "metadata": {},
   "source": [
    "The code returns a list of dictionaries with one dictionary for each risky individual and the following keys:\n",
    "- 'id' - ID of the risky individual\n",
    "- 'duration' - the total time in minutes, that individual was in the vicinity of the infected\n",
    "- 'lat_point' - latitude of the point where the risky individual was the nearest to the infected\n",
    "- 'lng_point' - longitude of the point where the risky individual was the nearest to the infected\n",
    "- 'min_dist' - minimal distance recorded between the risky individual and the infected individual\n",
    "- 'num_encounters' - total number of relevant recorded points when the risky individual was near the infected\n",
    "- 'score' - the risk score, calculated as duration(normalized) x num_encounters(normalized) x min_dist_inverse"
   ]
  }
 ],
 "metadata": {
  "kernelspec": {
   "display_name": "Python 3",
   "language": "python",
   "name": "python3"
  },
  "language_info": {
   "codemirror_mode": {
    "name": "ipython",
    "version": 3
   },
   "file_extension": ".py",
   "mimetype": "text/x-python",
   "name": "python",
   "nbconvert_exporter": "python",
   "pygments_lexer": "ipython3",
   "version": "3.7.3"
  }
 },
 "nbformat": 4,
 "nbformat_minor": 2
}
